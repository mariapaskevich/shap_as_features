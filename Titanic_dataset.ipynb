{
 "cells": [
  {
   "cell_type": "code",
   "execution_count": 53,
   "metadata": {},
   "outputs": [],
   "source": [
    "import pandas as pd\n",
    "import numpy as np\n",
    "import shap\n",
    "\n",
    "from sklearn.model_selection import train_test_split \n",
    "from sklearn.metrics import mean_squared_error as MSE \n",
    "\n",
    "from sklearn.metrics import accuracy_score\n",
    "\n",
    "import lightgbm as lgb"
   ]
  },
  {
   "cell_type": "markdown",
   "metadata": {},
   "source": [
    "# Dataset:\n",
    "https://www.kaggle.com/c/titanic/overview"
   ]
  },
  {
   "cell_type": "markdown",
   "metadata": {},
   "source": [
    "# Step 1\n",
    "\n",
    "Get data and build a relevant model\n",
    "\n",
    "Cross validation? Hyper parameters optimisation?"
   ]
  },
  {
   "cell_type": "code",
   "execution_count": 46,
   "metadata": {},
   "outputs": [],
   "source": [
    "X = pd.read_csv('Titanic/train.csv')\n",
    "y = X.Survived\n",
    "X = X.drop(['Survived','PassengerId'],axis=1)"
   ]
  },
  {
   "cell_type": "code",
   "execution_count": 47,
   "metadata": {},
   "outputs": [],
   "source": [
    "X_kaggle = pd.read_csv('Titanic/test.csv')"
   ]
  },
  {
   "cell_type": "code",
   "execution_count": 48,
   "metadata": {},
   "outputs": [],
   "source": [
    "X['surname'] = X.Name.apply(lambda x: x.split(',')[0]).astype('category')\n",
    "X = X.drop('Name',axis=1)"
   ]
  },
  {
   "cell_type": "code",
   "execution_count": 51,
   "metadata": {},
   "outputs": [],
   "source": [
    "X = X.astype({'Sex':'category',\n",
    "               'Ticket':'category',\n",
    "               'Cabin':'category',\n",
    "               'Embarked':'category'})\n",
    "\n",
    "# Splitting \n",
    "train_X, test_X, train_y, test_y = train_test_split(X, y, \n",
    "                      test_size = 0.3, random_state = 123) "
   ]
  },
  {
   "cell_type": "code",
   "execution_count": 57,
   "metadata": {},
   "outputs": [
    {
     "name": "stdout",
     "output_type": "stream",
     "text": [
      "[1]\tvalid_0's l1: 0.460541\tvalid_0's binary_logloss: 0.637004\n",
      "Training until validation scores don't improve for 5 rounds\n",
      "[2]\tvalid_0's l1: 0.450635\tvalid_0's binary_logloss: 0.618093\n",
      "[3]\tvalid_0's l1: 0.441765\tvalid_0's binary_logloss: 0.601978\n",
      "[4]\tvalid_0's l1: 0.432642\tvalid_0's binary_logloss: 0.586313\n",
      "[5]\tvalid_0's l1: 0.423929\tvalid_0's binary_logloss: 0.572071\n",
      "[6]\tvalid_0's l1: 0.415619\tvalid_0's binary_logloss: 0.559135\n",
      "[7]\tvalid_0's l1: 0.408168\tvalid_0's binary_logloss: 0.548048\n",
      "[8]\tvalid_0's l1: 0.401071\tvalid_0's binary_logloss: 0.538079\n",
      "[9]\tvalid_0's l1: 0.393874\tvalid_0's binary_logloss: 0.528001\n",
      "[10]\tvalid_0's l1: 0.38752\tvalid_0's binary_logloss: 0.519473\n",
      "[11]\tvalid_0's l1: 0.381152\tvalid_0's binary_logloss: 0.511203\n",
      "[12]\tvalid_0's l1: 0.374828\tvalid_0's binary_logloss: 0.503197\n",
      "[13]\tvalid_0's l1: 0.369076\tvalid_0's binary_logloss: 0.496221\n",
      "[14]\tvalid_0's l1: 0.363531\tvalid_0's binary_logloss: 0.489854\n",
      "[15]\tvalid_0's l1: 0.358102\tvalid_0's binary_logloss: 0.483549\n",
      "[16]\tvalid_0's l1: 0.353432\tvalid_0's binary_logloss: 0.478404\n",
      "[17]\tvalid_0's l1: 0.348416\tvalid_0's binary_logloss: 0.472964\n",
      "[18]\tvalid_0's l1: 0.343927\tvalid_0's binary_logloss: 0.46852\n",
      "[19]\tvalid_0's l1: 0.340034\tvalid_0's binary_logloss: 0.465022\n",
      "[20]\tvalid_0's l1: 0.336137\tvalid_0's binary_logloss: 0.461396\n",
      "Did not meet early stopping. Best iteration is:\n",
      "[20]\tvalid_0's l1: 0.336137\tvalid_0's binary_logloss: 0.461396\n",
      "Starting predicting...\n",
      "The rmse of prediction is: 0.832089552238806\n"
     ]
    }
   ],
   "source": [
    "gbm = lgb.LGBMClassifier(num_leaves=31,\n",
    "                        learning_rate=0.05,\n",
    "                        n_estimators=20)\n",
    "\n",
    "gbm.fit(train_X, train_y,\n",
    "        eval_set=[(test_X, test_y)],\n",
    "        eval_metric='l1',\n",
    "        early_stopping_rounds=5)\n",
    "\n",
    "print('Starting predicting...')\n",
    "# predict\n",
    "y_pred = gbm.predict(test_X, num_iteration=gbm.best_iteration_)\n",
    "# eval\n",
    "print('The rmse of prediction is:', accuracy_score(test_y, y_pred))"
   ]
  },
  {
   "cell_type": "markdown",
   "metadata": {},
   "source": [
    "# Step 2 \n",
    "\n",
    "- calculate Shap values for each observation in the train and test datasets\n",
    "- add shap values to the datasets as additional features"
   ]
  },
  {
   "cell_type": "code",
   "execution_count": 105,
   "metadata": {},
   "outputs": [],
   "source": [
    "def add_shap(X,model):\n",
    "\n",
    "    explainer = shap.TreeExplainer(model)\n",
    "\n",
    "    X_shap_values = explainer.shap_values(X)\n",
    "\n",
    "    res = X.join(pd.DataFrame(X_shap_values[0], index=X.index, columns=X.columns),rsuffix='_SHAP')\n",
    "\n",
    "    return res"
   ]
  },
  {
   "cell_type": "code",
   "execution_count": 107,
   "metadata": {},
   "outputs": [
    {
     "name": "stderr",
     "output_type": "stream",
     "text": [
      "LightGBM binary classifier with TreeExplainer shap values output has changed to a list of ndarray\n"
     ]
    }
   ],
   "source": [
    "train_X_extended = add_shap(train_X,gbm)\n",
    "test_X_extended = add_shap(test_X,gbm)"
   ]
  },
  {
   "cell_type": "code",
   "execution_count": null,
   "metadata": {},
   "outputs": [],
   "source": []
  },
  {
   "cell_type": "code",
   "execution_count": 108,
   "metadata": {},
   "outputs": [
    {
     "name": "stdout",
     "output_type": "stream",
     "text": [
      "[1]\tvalid_0's l1: 0.460482\tvalid_0's binary_logloss: 0.63691\n",
      "Training until validation scores don't improve for 5 rounds\n",
      "[2]\tvalid_0's l1: 0.450318\tvalid_0's binary_logloss: 0.617686\n",
      "[3]\tvalid_0's l1: 0.440782\tvalid_0's binary_logloss: 0.60053\n",
      "[4]\tvalid_0's l1: 0.43152\tvalid_0's binary_logloss: 0.585079\n",
      "[5]\tvalid_0's l1: 0.423645\tvalid_0's binary_logloss: 0.572473\n",
      "[6]\tvalid_0's l1: 0.415506\tvalid_0's binary_logloss: 0.560421\n",
      "[7]\tvalid_0's l1: 0.407776\tvalid_0's binary_logloss: 0.549303\n",
      "[8]\tvalid_0's l1: 0.400381\tvalid_0's binary_logloss: 0.539027\n",
      "[9]\tvalid_0's l1: 0.393378\tvalid_0's binary_logloss: 0.529826\n",
      "[10]\tvalid_0's l1: 0.38689\tvalid_0's binary_logloss: 0.521823\n",
      "[11]\tvalid_0's l1: 0.380728\tvalid_0's binary_logloss: 0.514655\n",
      "[12]\tvalid_0's l1: 0.374236\tvalid_0's binary_logloss: 0.507221\n",
      "[13]\tvalid_0's l1: 0.368966\tvalid_0's binary_logloss: 0.50201\n",
      "[14]\tvalid_0's l1: 0.362912\tvalid_0's binary_logloss: 0.495472\n",
      "[15]\tvalid_0's l1: 0.357942\tvalid_0's binary_logloss: 0.490954\n",
      "[16]\tvalid_0's l1: 0.353719\tvalid_0's binary_logloss: 0.487783\n",
      "[17]\tvalid_0's l1: 0.348476\tvalid_0's binary_logloss: 0.482767\n",
      "[18]\tvalid_0's l1: 0.343117\tvalid_0's binary_logloss: 0.477519\n",
      "[19]\tvalid_0's l1: 0.33776\tvalid_0's binary_logloss: 0.472287\n",
      "[20]\tvalid_0's l1: 0.333401\tvalid_0's binary_logloss: 0.468622\n",
      "Did not meet early stopping. Best iteration is:\n",
      "[20]\tvalid_0's l1: 0.333401\tvalid_0's binary_logloss: 0.468622\n",
      "Starting predicting...\n",
      "The rmse of prediction is: 0.8022388059701493\n"
     ]
    },
    {
     "name": "stderr",
     "output_type": "stream",
     "text": [
      "Overriding the parameters from Reference Dataset.\n",
      "categorical_column in param dict is overridden.\n"
     ]
    }
   ],
   "source": [
    "gbm.fit(train_X_extended, train_y,\n",
    "        eval_set=[(test_X_extended, test_y)],\n",
    "        eval_metric='l1',\n",
    "        early_stopping_rounds=5)\n",
    "\n",
    "print('Starting predicting...')\n",
    "# predict\n",
    "y_pred = gbm.predict(test_X_extended, num_iteration=gbm.best_iteration_)\n",
    "# eval\n",
    "print('The rmse of prediction is:', accuracy_score(test_y, y_pred))"
   ]
  },
  {
   "cell_type": "code",
   "execution_count": 109,
   "metadata": {},
   "outputs": [
    {
     "data": {
      "image/png": "[encoded data removed]",
      "text/plain": [
       "<Figure size 576x684 with 1 Axes>"
      ]
     },
     "metadata": {
      "needs_background": "light"
     },
     "output_type": "display_data"
    }
   ],
   "source": [
    "explainer = shap.TreeExplainer(gbm)\n",
    "\n",
    "shap_values = explainer.shap_values(test_X_extended)\n",
    "\n",
    "shap.summary_plot(shap_values, test_X_extended, max_display=100)"
   ]
  },
  {
   "cell_type": "markdown",
   "metadata": {},
   "source": [
    "# Step 3\n",
    "\n",
    "Build a new model with new features"
   ]
  }
 ],
 "metadata": {
  "kernelspec": {
   "display_name": "Python 3",
   "language": "python",
   "name": "python3"
  },
  "language_info": {
   "codemirror_mode": {
    "name": "ipython",
    "version": 3
   },
   "file_extension": ".py",
   "mimetype": "text/x-python",
   "name": "python",
   "nbconvert_exporter": "python",
   "pygments_lexer": "ipython3",
   "version": "3.7.7"
  }
 },
 "nbformat": 4,
 "nbformat_minor": 4
}
